{
 "cells": [
  {
   "cell_type": "markdown",
   "metadata": {},
   "source": [
    "## Install Dependencies"
   ]
  },
  {
   "cell_type": "code",
   "execution_count": null,
   "metadata": {},
   "outputs": [],
   "source": [
    "!pip install tensorflow==2.4.1 tensorflow-gpu==2.4.1 opencv-python matplotlib"
   ]
  },
  {
   "cell_type": "code",
   "execution_count": 1,
   "metadata": {},
   "outputs": [],
   "source": [
    "import matplotlib.pyplot as plt\n",
    "import tensorflow as tf\n",
    "import numpy as np\n",
    "import cv2"
   ]
  },
  {
   "cell_type": "markdown",
   "metadata": {},
   "source": [
    "## Load model and allocate tensors"
   ]
  },
  {
   "cell_type": "code",
   "execution_count": 2,
   "metadata": {},
   "outputs": [],
   "source": [
    "interpreter = tf.lite.Interpreter(model_path='lite-model_movenet_singlepose_lightning_3.tflite')\n",
    "interpreter.allocate_tensors()"
   ]
  },
  {
   "cell_type": "markdown",
   "metadata": {},
   "source": [
    "## Make Detections"
   ]
  },
  {
   "cell_type": "code",
   "execution_count": 27,
   "metadata": {},
   "outputs": [],
   "source": [
    "cap = cv2.VideoCapture(0)\n",
    "while cap.isOpened():\n",
    "    _,frame=cap.read()\n",
    "    \n",
    "    #Reshape Image\n",
    "    img = frame.copy()\n",
    "    img = tf.image.resize_with_pad(np.expand_dims(img,axis=0),192,192)\n",
    "    input_image = tf.cast(img,dtype=tf.float32)\n",
    "    \n",
    "    #setup input and output\n",
    "    input_details = interpreter.get_input_details()\n",
    "    output_details = interpreter.get_output_details()\n",
    "    \n",
    "    #Make predictions\n",
    "    interpreter.set_tensor(input_details[0]['index'],np.array(input_image))\n",
    "    interpreter.invoke()\n",
    "    keypoints_with_scores = interpreter.get_tensor(output_details[0]['index'])\n",
    "    #print(keypoints_with_scores)\n",
    "    \n",
    "    #Rendering\n",
    "    draw_connections(frame,keypoints_with_scores,EDGES,0.4)\n",
    "    draw_keypoints(frame,keypoints_with_scores,0.4)\n",
    "    cv2.imshow('MoveNet Lightning',cv2.flip(frame,1))\n",
    "    if cv2.waitKey(10) & 0xFF==ord('q'):\n",
    "        break\n",
    "cap.release()\n",
    "cv2.destroyAllWindows()"
   ]
  },
  {
   "cell_type": "markdown",
   "metadata": {},
   "source": [
    "**How to get data**"
   ]
  },
  {
   "cell_type": "code",
   "execution_count": 13,
   "metadata": {},
   "outputs": [
    {
     "data": {
      "text/plain": [
       "array([209, 335])"
      ]
     },
     "execution_count": 13,
     "metadata": {},
     "output_type": "execute_result"
    }
   ],
   "source": [
    "right_eye = keypoints_with_scores[0][0][2]\n",
    "np.array(right_eye[:-1]*[480,640]).astype(int)"
   ]
  },
  {
   "cell_type": "code",
   "execution_count": 15,
   "metadata": {},
   "outputs": [
    {
     "name": "stdout",
     "output_type": "stream",
     "text": [
      "379 236 0.7692314386367798\n",
      "405 204 0.7363525629043579\n",
      "335 209 0.47225403785705566\n",
      "432 214 0.6654006242752075\n",
      "289 228 0.7968537211418152\n",
      "531 310 0.7863597869873047\n",
      "215 331 0.8477886915206909\n",
      "595 420 0.03343367576599121\n",
      "190 422 0.03146308660507202\n",
      "460 300 0.00731930136680603\n",
      "292 383 0.0031796395778656006\n",
      "259 208 0.009642869234085083\n",
      "268 163 0.008072346448898315\n",
      "618 315 0.01788806915283203\n",
      "214 326 0.01835101842880249\n",
      "651 245 0.009585678577423096\n",
      "650 235 0.006071269512176514\n"
     ]
    }
   ],
   "source": [
    "shaped = np.squeeze(interpreter.get_tensor(output_details[0]['index'])*[480,640,1])\n",
    "#print(shaped)\n",
    "for kp in shaped:\n",
    "    ky,kx,kp_conf = kp\n",
    "    print(int(kx),int(ky),kp_conf)"
   ]
  },
  {
   "cell_type": "markdown",
   "metadata": {},
   "source": [
    "## Draw Keypoints"
   ]
  },
  {
   "cell_type": "code",
   "execution_count": 16,
   "metadata": {},
   "outputs": [],
   "source": [
    "def draw_keypoints(frame,keypoints,confidence):\n",
    "    y,x,c = frame.shape\n",
    "    shaped = np.squeeze(keypoints*[y,x,1])\n",
    "    \n",
    "    for kp in shaped:\n",
    "        ky,kx,kp_conf = kp\n",
    "        if kp_conf>confidence:\n",
    "            cv2.circle(frame,(int(kx),int(ky)),4,(0,255,0),-1)\n",
    "            "
   ]
  },
  {
   "cell_type": "markdown",
   "metadata": {},
   "source": [
    "## Draw Edges"
   ]
  },
  {
   "cell_type": "code",
   "execution_count": 22,
   "metadata": {},
   "outputs": [],
   "source": [
    "EDGES = {\n",
    "    (0, 1): 'm',\n",
    "    (0, 2): 'c',\n",
    "    (1, 3): 'm',\n",
    "    (2, 4): 'c',\n",
    "    (0, 5): 'm',\n",
    "    (0, 6): 'c',\n",
    "    (5, 7): 'm',\n",
    "    (7, 9): 'm',\n",
    "    (6, 8): 'c',\n",
    "    (8, 10): 'c',\n",
    "    (5, 6): 'y',\n",
    "    (5, 11): 'm',\n",
    "    (6, 12): 'c',\n",
    "    (11, 12): 'y',\n",
    "    (11, 13): 'm',\n",
    "    (13, 15): 'm',\n",
    "    (12, 14): 'c',\n",
    "    (14, 16): 'c'\n",
    "}\n",
    "#All connections"
   ]
  },
  {
   "cell_type": "code",
   "execution_count": 25,
   "metadata": {},
   "outputs": [],
   "source": [
    "def draw_connections(frame,keypoints,edges,confidence):\n",
    "    y,x,c = frame.shape\n",
    "    shaped = np.squeeze(keypoints*[y,x,1]) \n",
    "    for edge,color in edges.items():\n",
    "        p1,p2 = edge\n",
    "        y1,x1,c1 = shaped[p1]\n",
    "        y2,x2,c2 = shaped[p2]\n",
    "        \n",
    "        if(c1>confidence and c2>confidence):\n",
    "            cv2.line(frame,(int(x1),int(y1)),(int(x2),int(y2)),(255,0,0),2)"
   ]
  }
 ],
 "metadata": {
  "kernelspec": {
   "display_name": "Python 3",
   "language": "python",
   "name": "python3"
  },
  "language_info": {
   "codemirror_mode": {
    "name": "ipython",
    "version": 3
   },
   "file_extension": ".py",
   "mimetype": "text/x-python",
   "name": "python",
   "nbconvert_exporter": "python",
   "pygments_lexer": "ipython3",
   "version": "3.8.5"
  }
 },
 "nbformat": 4,
 "nbformat_minor": 4
}
